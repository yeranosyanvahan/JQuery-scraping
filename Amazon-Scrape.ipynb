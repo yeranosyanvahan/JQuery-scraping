{
 "cells": [
  {
   "cell_type": "code",
   "execution_count": 1,
   "id": "0455e44b",
   "metadata": {},
   "outputs": [],
   "source": [
    "from Browser import BROWSER"
   ]
  },
  {
   "cell_type": "code",
   "execution_count": 2,
   "id": "887da70d",
   "metadata": {},
   "outputs": [
    {
     "name": "stderr",
     "output_type": "stream",
     "text": [
      "\n",
      "\n",
      "====== WebDriver manager ======\n",
      "Current google-chrome version is 91.0.4472\n",
      "Get LATEST driver version for 91.0.4472\n",
      "Driver [C:\\Users\\yeran\\.wdm\\drivers\\chromedriver\\win32\\91.0.4472.101\\chromedriver.exe] found in cache\n"
     ]
    }
   ],
   "source": [
    "Browser=BROWSER(\"https://amazon.com\") # You should now see a new browser emulator (selenium) to come up\n",
    "Browser.jquery() #this line is to have jquery library installed on the current tab"
   ]
  },
  {
   "cell_type": "code",
   "execution_count": 3,
   "id": "2baa92d2",
   "metadata": {},
   "outputs": [],
   "source": [
    "Browser(\"\"\"\n",
    " $('input#twotabsearchtextbox').val('Shoes')\n",
    " $('input#nav-search-submit-button').click()\n",
    " \"\"\") # Try to see what is happening after running this bit of code"
   ]
  },
  {
   "cell_type": "code",
   "execution_count": 4,
   "id": "f2f46ffb",
   "metadata": {
    "scrolled": false
   },
   "outputs": [],
   "source": [
    "Browser.jquery()\n",
    "XML=Browser(\"\"\"\n",
    "XML=$(\"<root />\")\n",
    "$('span div.s-main-slot').children().has('img').each(function(){\n",
    "\n",
    "    var Price=$(this).find('a span.a-price-whole').text()\n",
    "    if(! Price){Price=-999}\n",
    "    var Price=$('<price />',{text:Price})\n",
    "    var Picture=$('<picture />',{src:$(this).find('img').attr('src')})\n",
    "    var Description=$('<Description />', {text:$(this).find('a span.a-text-normal').text()})\n",
    "    $(\"<product />\").append([Description,Picture,Price]).appendTo(XML)\n",
    "    console.log(this)\n",
    "})\n",
    "return $(XML).prop('outerHTML');\n",
    "\"\"\") \n",
    "# Esentially what this code does is to create an empty XML file and read all the products available,\n",
    "# Then it finds the product's Price Picture and the description and it parses the created xml file then returns it\n",
    "\n",
    "# The schema of xml is as follows\n",
    "\n",
    "# <xml>\n",
    "#   <product>\n",
    "#     <description>\n",
    "#         A nice Shoe\n",
    "#     </description>\n",
    "#     <price>\n",
    "#         100. \n",
    "#     </price>\n",
    "#     <picture src=\"the source of the image of the product\"/>\n",
    "#   </product>\n",
    "# </xml>"
   ]
  },
  {
   "cell_type": "code",
   "execution_count": 11,
   "id": "dbdd2e17",
   "metadata": {
    "scrolled": false
   },
   "outputs": [
    {
     "name": "stdout",
     "output_type": "stream",
     "text": [
      "b'<?xml version=\"1.0\" encoding=\"utf-8\"?>\\n<root>\\n\\t<product>\\n\\t\\t<description>Amazon Essentials Men\\'s Canvas Slip-on Loafer</description>\\n\\t\\t<picture src=\"https://m.media-amazon.com/images/I/81WjXgpKX4L._AC_UL320_.jpg\"/>\\n\\t\\t<price>33.</price>\\n\\t</product>\\n\\t<product>\\n\\t\\t<description>New Balance Men\\'s 623 V3 Casual Comfort Cross Trainer</description>\\n\\t\\t<picture src=\"https://m.media-amazon.com/images/I/81+SwSx8DSL._AC_UL320_.jpg\"/>\\n\\t\\t<price>-999</price>\\n\\t</product>\\n\\t<product>\\n\\t\\t<description>New Balance Men\\'s 481 V3 Trail Running Shoe</description>\\n\\t\\t<picture src=\"https://m.media-amazon.com/images/I/81UcrwrbvgL._AC_UL320_.jpg\"/>\\n\\t\\t<price>-999</price>\\n\\t</product>\\n\\t<product>\\n\\t\\t<description>Rockport Men\\'s Eureka Walking Shoe</description>\\n\\t\\t<picture src=\"https://m.media-amazon.com/images/I/61rtuwpKtoL._AC_UL320_.jpg\"/>\\n\\t\\t<price>52.</price>\\n\\t</product>\\n\\t<product>\\n\\t\\t<description>New Balance Women\\'s FuelCore Nergize Sport V1 Sneaker</description>\\n\\t\\t<picture src=\"https://m.media-amazon.com/images/I/61bAKK7+y3L._AC_UL320_.jpg\"/>\\n\\t\\t<price>54.</price>\\n\\t</product>\\n\\t<product>\\n\\t\\t<description>adidas Women\\'s Duramo Sl Running Shoe</description>\\n\\t\\t<picture src=\"https://m.media-amazon.com/images/I/71P5P2KtS-L._AC_UL320_.jpg\"/>\\n\\t\\t<price>58.</price>\\n\\t</product>\\n\\t<product>\\n\\t\\t<description>Lacoste Men\\'s Bayliss Sneaker</description>\\n\\t\\t<picture src=\"https://m.media-amazon.com/images/I/61HdMP5n32L._AC_UL320_.jpg\"/>\\n\\t\\t<price>71.</price>\\n\\t</product>\\n\\t<product>\\n\\t\\t<description>Skechers Men\\'s Afterburn Memory-Foam Lace-up Sneaker</description>\\n\\t\\t<picture src=\"https://m.media-amazon.com/images/I/71+BksVBGTL._AC_UL320_.jpg\"/>\\n\\t\\t<price>42.</price>\\n\\t</product>\\n\\t<product>\\n\\t\\t<description>adidas Men\\'s Lite Racer Adapt 3.0 Running Shoe</description>\\n\\t\\t<picture src=\"https://m.media-amazon.com/images/I/71witg-CFQL._AC_UL320_.jpg\"/>\\n\\t\\t<price>-999</price>\\n\\t</product>\\n\\t<product>\\n\\t\\t<description>adidas Women\\'s Cloudfoam Pure Running Shoe</description>\\n\\t\\t<picture src=\"https://m.media-amazon.com/images/I/71G0sB8FnFL._AC_UL320_.jpg\"/>\\n\\t\\t<price>43.</price>\\n\\t</product>\\n\\t<product>\\n\\t\\t<description>Under Armour Men\\'s Charged Pursuit 2 Running Shoe</description>\\n\\t\\t<picture src=\"https://m.media-amazon.com/images/I/711P7s-h47S._AC_UL320_.jpg\"/>\\n\\t\\t<price>70.</price>\\n\\t</product>\\n\\t<product>\\n\\t\\t<description>Under Armour Men\\'s Charged Assert 8 Mrble Running Shoe</description>\\n\\t\\t<picture src=\"https://m.media-amazon.com/images/I/51fjQKot6RL._AC_UL320_.jpg\"/>\\n\\t\\t<price>38.</price>\\n\\t</product>\\n\\t<product>\\n\\t\\t<description>Skechers Women\\'s Go Walk Joy Walking Shoe</description>\\n\\t\\t<picture src=\"https://m.media-amazon.com/images/I/81kmU+BpSQL._AC_UL320_.jpg\"/>\\n\\t\\t<price>39.</price>\\n\\t</product>\\n\\t<product>\\n\\t\\t<description>Concept 3 by Skechers Men\\'s Eakins Lace-up Sneaker</description>\\n\\t\\t<picture src=\"https://m.media-amazon.com/images/I/7122TK8dCTS._AC_UL320_.jpg\"/>\\n\\t\\t<price>41.</price>\\n\\t</product>\\n\\t<product>\\n\\t\\t<description>Under Armour Men\\'s Surge 2 Running Shoe</description>\\n\\t\\t<picture src=\"https://m.media-amazon.com/images/I/71Fom1cc1TS._AC_UL320_.jpg\"/>\\n\\t\\t<price>44.</price>\\n\\t</product>\\n\\t<product>\\n\\t\\t<description>adidas Men\\'s Advantage Sneaker</description>\\n\\t\\t<picture src=\"https://m.media-amazon.com/images/I/61B4QM1axWL._AC_UL320_.jpg\"/>\\n\\t\\t<price>40.</price>\\n\\t</product>\\n\\t<product>\\n\\t\\t<description>Skechers Men\\'s Go Walk Evolution Ultra - Impeccable Walking Shoe</description>\\n\\t\\t<picture src=\"https://m.media-amazon.com/images/I/81HctfkLf7L._AC_UL320_.jpg\"/>\\n\\t\\t<price>46.</price>\\n\\t</product>\\n\\t<product>\\n\\t\\t<description>adidas Men\\'s Tech Response Golf Shoes</description>\\n\\t\\t<picture src=\"https://m.media-amazon.com/images/I/81oxMLJkJNL._AC_UL320_.jpg\"/>\\n\\t\\t<price>69.</price>\\n\\t</product>\\n\\t<product>\\n\\t\\t<description>Reebok Women\\'s Princess-Sneaker Casual Joggers</description>\\n\\t\\t<picture src=\"https://m.media-amazon.com/images/I/51UaBdEHuiL._AC_UL320_.jpg\"/>\\n\\t\\t<price>35.</price>\\n\\t</product>\\n\\t<product>\\n\\t\\t<description>Under Armour Men\\'s Charged Pursuit 2 Special Edition Running Shoe</description>\\n\\t\\t<picture src=\"https://m.media-amazon.com/images/I/81o1HrRseQL._AC_UL320_.jpg\"/>\\n\\t\\t<price>70.</price>\\n\\t</product>\\n\\t<product>\\n\\t\\t<description>New Balance Men\\'s Fresh Foam Arishi V3 Running Shoe</description>\\n\\t\\t<picture src=\"https://m.media-amazon.com/images/I/71BqvFUcgoL._AC_UL320_.jpg\"/>\\n\\t\\t<price>64.</price>\\n\\t</product>\\n\\t<product>\\n\\t\\t<description>adidas Women\\'s Grand Court Sneaker</description>\\n\\t\\t<picture src=\"https://m.media-amazon.com/images/I/71qdoDlEOpL._AC_UL320_.jpg\"/>\\n\\t\\t<price>59.</price>\\n\\t</product>\\n\\t<product>\\n\\t\\t<description>KEEN Men\\'s SOLR High Performance Sport Closed Toe Water Sandal</description>\\n\\t\\t<picture src=\"https://m.media-amazon.com/images/I/71-i+xe5tiS._AC_UL320_.jpg\"/>\\n\\t\\t<price>-999</price>\\n\\t</product>\\n\\t<product>\\n\\t\\t<description>adidas Men\\'s Response Super Running Shoe</description>\\n\\t\\t<picture src=\"https://m.media-amazon.com/images/I/81v889LEUyL._AC_UL320_.jpg\"/>\\n\\t\\t<price>-999</price>\\n\\t</product>\\n\\t<product>\\n\\t\\t<description>New Balance Men\\'s 608 V5 Casual Comfort Cross Trainer</description>\\n\\t\\t<picture src=\"https://m.media-amazon.com/images/I/71I2Hf4x0SL._AC_UL320_.jpg\"/>\\n\\t\\t<price>54.</price>\\n\\t</product>\\n\\t<product>\\n\\t\\t<description>Steve Madden Men\\'s Fenta Fashion Sneaker</description>\\n\\t\\t<picture src=\"https://m.media-amazon.com/images/I/813UuOjWfZL._AC_UL320_.jpg\"/>\\n\\t\\t<price>54.</price>\\n\\t</product>\\n\\t<product>\\n\\t\\t<description>Rockport Men\\'s Eureka Walking Shoe</description>\\n\\t\\t<picture src=\"https://m.media-amazon.com/images/I/61rtuwpKtoL._AC_UL320_.jpg\"/>\\n\\t\\t<price>52.</price>\\n\\t</product>\\n\\t<product>\\n\\t\\t<description>Emeril Lagasse Men\\'s Cooper Pro EVA Food Service Shoe, Black, 13</description>\\n\\t\\t<picture src=\"https://m.media-amazon.com/images/I/71mia50hAGL._AC_UL320_.jpg\"/>\\n\\t\\t<price>34.</price>\\n\\t</product>\\n\\t<product>\\n\\t\\t<description>Capezio Men\\'s SD103 Social Dance Shoe</description>\\n\\t\\t<picture src=\"https://m.media-amazon.com/images/I/81i9iGLUWnL._AC_UL320_.jpg\"/>\\n\\t\\t<price>70.</price>\\n\\t</product>\\n\\t<product>\\n\\t\\t<description>Rockport Men\\'s Darwyn Fishermen Sandal</description>\\n\\t\\t<picture src=\"https://m.media-amazon.com/images/I/81W7RAfDWKL._AC_UL320_.jpg\"/>\\n\\t\\t<price>71.</price>\\n\\t</product>\\n\\t<product>\\n\\t\\t<description>Under Armour Men\\'s Charged Assert 9 Running Shoe</description>\\n\\t\\t<picture src=\"https://m.media-amazon.com/images/I/71oNa25Pz2L._AC_UL320_.jpg\"/>\\n\\t\\t<price>52.</price>\\n\\t</product>\\n\\t<product>\\n\\t\\t<description>adidas Women\\'s Cloudfoam Pure 2.0 Running Shoes</description>\\n\\t\\t<picture src=\"https://m.media-amazon.com/images/I/71HsKn-2HjS._AC_UL320_.jpg\"/>\\n\\t\\t<price>69.</price>\\n\\t</product>\\n\\t<product>\\n\\t\\t<description>Skechers Men\\'s Go Max-Athletic Air Mesh Slip on Walking Shoe</description>\\n\\t\\t<picture src=\"https://m.media-amazon.com/images/I/71hdDHmI4CS._AC_UL320_.jpg\"/>\\n\\t\\t<price>39.</price>\\n\\t</product>\\n\\t<product>\\n\\t\\t<description>Skechers Men\\'s Classic Fit-delson-Camden Sneaker</description>\\n\\t\\t<picture src=\"https://m.media-amazon.com/images/I/813N4tHPOKL._AC_UL320_.jpg\"/>\\n\\t\\t<price>49.</price>\\n\\t</product>\\n\\t<product>\\n\\t\\t<description>New Balance Women\\'s FuelCore Nergize V1 Sneaker</description>\\n\\t\\t<picture src=\"https://m.media-amazon.com/images/I/71GyzXlZlRL._AC_UL320_.jpg\"/>\\n\\t\\t<price>64.</price>\\n\\t</product>\\n\\t<product>\\n\\t\\t<description>Hey Dude Men\\'s Wally Sox Loafer</description>\\n\\t\\t<picture src=\"https://m.media-amazon.com/images/I/817lwe2y3AL._AC_UL320_.jpg\"/>\\n\\t\\t<price>-999</price>\\n\\t</product>\\n\\t<product>\\n\\t\\t<description>New Balance Men\\'s 680v6 Cushioning Running Shoe</description>\\n\\t\\t<picture src=\"https://m.media-amazon.com/images/I/71z915DDAIL._AC_UL320_.jpg\"/>\\n\\t\\t<price>-999</price>\\n\\t</product>\\n\\t<product>\\n\\t\\t<description>adidas Men\\'s Grand Court Sneaker</description>\\n\\t\\t<picture src=\"https://m.media-amazon.com/images/I/61FbqzPD8TL._AC_UL320_.jpg\"/>\\n\\t\\t<price>55.</price>\\n\\t</product>\\n\\t<product>\\n\\t\\t<description>Ryka Women\\'s Devotion Plus 3 Walking Shoe</description>\\n\\t\\t<picture src=\"https://m.media-amazon.com/images/I/81Czh3+lZEL._AC_UL320_.jpg\"/>\\n\\t\\t<price>73.</price>\\n\\t</product>\\n\\t<product>\\n\\t\\t<description>New Balance Women\\'s 411 V1 Walking Shoe</description>\\n\\t\\t<picture src=\"https://m.media-amazon.com/images/I/71kN6GMBVRL._AC_UL320_.jpg\"/>\\n\\t\\t<price>-999</price>\\n\\t</product>\\n\\t<product>\\n\\t\\t<description>Skechers Men\\'s Cessnock Food Service Shoe</description>\\n\\t\\t<picture src=\"https://m.media-amazon.com/images/I/61XpDRTeG-L._AC_UL320_.jpg\"/>\\n\\t\\t<price>50.</price>\\n\\t</product>\\n\\t<product>\\n\\t\\t<description>Skechers Men\\'s Expected Avillo</description>\\n\\t\\t<picture src=\"https://m.media-amazon.com/images/I/71R82qHGjUL._AC_UL320_.jpg\"/>\\n\\t\\t<price>42.</price>\\n\\t</product>\\n\\t<product>\\n\\t\\t<description>Fila Men\\xe2\\x80\\x99s Memory Workshift Slip Resistant Work Shoe</description>\\n\\t\\t<picture src=\"https://m.media-amazon.com/images/I/81Bz-5vMe2L._AC_UL320_.jpg\"/>\\n\\t\\t<price>33.</price>\\n\\t</product>\\n\\t<product>\\n\\t\\t<description>ASICS Men\\'s Gel-Venture 7 Running Shoes</description>\\n\\t\\t<picture src=\"https://m.media-amazon.com/images/I/716BP19aFpL._AC_UL320_.jpg\"/>\\n\\t\\t<price>-999</price>\\n\\t</product>\\n\\t<product>\\n\\t\\t<description>Timberland Men\\'s White Ledge Mid Waterproof Ankle Boot</description>\\n\\t\\t<picture src=\"https://m.media-amazon.com/images/I/71iWLNVDL3L._AC_UL320_.jpg\"/>\\n\\t\\t<price>99.</price>\\n\\t</product>\\n\\t<product>\\n\\t\\t<description>Clarks Women\\'s Breeze Sea</description>\\n\\t\\t<picture src=\"https://m.media-amazon.com/images/I/71ragcm5yqL._AC_UL320_.jpg\"/>\\n\\t\\t<price>39.</price>\\n\\t</product>\\n\\t<product>\\n\\t\\t<description>Skechers Women\\'s Squad Sr Food Service Shoe</description>\\n\\t\\t<picture src=\"https://m.media-amazon.com/images/I/81MExQv49WL._AC_UL320_.jpg\"/>\\n\\t\\t<price>42.</price>\\n\\t</product>\\n\\t<product>\\n\\t\\t<description>Saucony Men\\'s Cohesion 13 Walking Shoe</description>\\n\\t\\t<picture src=\"https://m.media-amazon.com/images/I/81pu1m3lpgL._AC_UL320_.jpg\"/>\\n\\t\\t<price>-999</price>\\n\\t</product>\\n\\t<product>\\n\\t\\t<description>Rockport Men\\'s Chranson Walking Shoe</description>\\n\\t\\t<picture src=\"https://m.media-amazon.com/images/I/81gKrn3TI+L._AC_UL320_.jpg\"/>\\n\\t\\t<price>60.</price>\\n\\t</product>\\n\\t<product>\\n\\t\\t<description>adidas outdoor Men\\'s Terrex Ax3 Hiking Boot</description>\\n\\t\\t<picture src=\"https://m.media-amazon.com/images/I/81JVjPdq3iL._AC_UL320_.jpg\"/>\\n\\t\\t<price>-999</price>\\n\\t</product>\\n\\t<product>\\n\\t\\t<description>adidas Men\\'s Daily 3.0 Skate Shoe</description>\\n\\t\\t<picture src=\"https://m.media-amazon.com/images/I/8176OVh-gaL._AC_UL320_.jpg\"/>\\n\\t\\t<price>-999</price>\\n\\t</product>\\n\\t<product>\\n\\t\\t<description>Skechers Women\\'s D\\'Lites Memory Foam Lace-up Sneaker</description>\\n\\t\\t<picture src=\"https://m.media-amazon.com/images/I/61bBZe-hCrL._AC_UL320_.jpg\"/>\\n\\t\\t<price>45.</price>\\n\\t</product>\\n\\t<product>\\n\\t\\t<description>Under Armour Men\\'s Ignite Vi Graphic Strap Slide Sandal</description>\\n\\t\\t<picture src=\"https://m.media-amazon.com/images/I/71k-z2Zd-wL._AC_UL320_.jpg\"/>\\n\\t\\t<price>34.</price>\\n\\t</product>\\n\\t<product>\\n\\t\\t<description>Concept 3 by Skechers Men\\'s Naiter Mesh Slip-on Casual Sneaker</description>\\n\\t\\t<picture src=\"https://m.media-amazon.com/images/I/81vcx6kwr8S._AC_UL320_.jpg\"/>\\n\\t\\t<price>40.</price>\\n\\t</product>\\n\\t<product>\\n\\t\\t<description>Crocs Unisex Bistro Batali Edition Clog</description>\\n\\t\\t<picture src=\"https://m.media-amazon.com/images/I/81-EqlhSNrL._AC_UL320_.jpg\"/>\\n\\t\\t<price>49.</price>\\n\\t</product>\\n\\t<product>\\n\\t\\t<description>Capezio Women\\'s CG17 Fluid Tap Shoe</description>\\n\\t\\t<picture src=\"https://m.media-amazon.com/images/I/71Papil8A9L._AC_UL320_.jpg\"/>\\n\\t\\t<price>55.</price>\\n\\t</product>\\n\\t<product>\\n\\t\\t<description>Dance Class Low Profile Jazz Shoe (Toddler/Little Kid)</description>\\n\\t\\t<picture src=\"https://m.media-amazon.com/images/I/817YbxNjYbL._AC_UL320_.jpg\"/>\\n\\t\\t<price>27.</price>\\n\\t</product>\\n\\t<product>\\n\\t\\t<description>Fila Men\\xe2\\x80\\x99s Memory Workshift Slip Resistant Work Shoe</description>\\n\\t\\t<picture src=\"https://m.media-amazon.com/images/I/61U5JL9EZTL._AC_UL320_.jpg\"/>\\n\\t\\t<price>36.</price>\\n\\t</product>\\n\\t<product>\\n\\t\\t<description>Rockport Men\\'s Rocklake Flat Sandal</description>\\n\\t\\t<picture src=\"https://m.media-amazon.com/images/I/71pi-dQZgoL._AC_UL320_.jpg\"/>\\n\\t\\t<price>48.</price>\\n\\t</product>\\n\\t<product>\\n\\t\\t<description/>\\n\\t\\t<picture src=\"https://m.media-amazon.com/images/I/61YWoo-3NTL._AC_SL139_QL70_.jpg\"/>\\n\\t\\t<price>-999</price>\\n\\t</product>\\n</root>\\n'\n"
     ]
    }
   ],
   "source": [
    "import xml.dom.minidom\n",
    "dom = xml.dom.minidom.parseString(XML)\n",
    "pretty_xml_as_string = dom.toprettyxml(encoding=\"utf-8\")\n",
    "print(str(pretty_xml_as_string))"
   ]
  }
 ],
 "metadata": {
  "kernelspec": {
   "display_name": "Python 3",
   "language": "python",
   "name": "python3"
  },
  "language_info": {
   "codemirror_mode": {
    "name": "ipython",
    "version": 3
   },
   "file_extension": ".py",
   "mimetype": "text/x-python",
   "name": "python",
   "nbconvert_exporter": "python",
   "pygments_lexer": "ipython3",
   "version": "3.8.5"
  }
 },
 "nbformat": 4,
 "nbformat_minor": 5
}
