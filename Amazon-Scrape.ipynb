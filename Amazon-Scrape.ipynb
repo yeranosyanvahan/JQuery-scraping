{
 "cells": [
  {
   "cell_type": "code",
   "execution_count": 1,
   "id": "83d7daae",
   "metadata": {},
   "outputs": [],
   "source": [
    "from Browser import BROWSER"
   ]
  },
  {
   "cell_type": "code",
   "execution_count": 2,
   "id": "4f0e90bc",
   "metadata": {},
   "outputs": [
    {
     "name": "stderr",
     "output_type": "stream",
     "text": [
      "\n",
      "\n",
      "====== WebDriver manager ======\n",
      "Current google-chrome version is 91.0.4472\n",
      "Get LATEST driver version for 91.0.4472\n",
      "Driver [C:\\Users\\yeran\\.wdm\\drivers\\chromedriver\\win32\\91.0.4472.101\\chromedriver.exe] found in cache\n"
     ]
    }
   ],
   "source": [
    "Browser=BROWSER(\"https://amazon.com\") # You should now see a new browser emulator (selenium) to come up\n",
    "Browser.jquery() #this line is to have jquery library installed on the current tab"
   ]
  },
  {
   "cell_type": "code",
   "execution_count": 3,
   "id": "bf9fc70a",
   "metadata": {},
   "outputs": [],
   "source": [
    "Browser(\"\"\"\n",
    " $('input#twotabsearchtextbox').val('Shoes')\n",
    " $('input#nav-search-submit-button').click()\n",
    " \"\"\") # Try to see what is happening after running this bit of code"
   ]
  },
  {
   "cell_type": "code",
   "execution_count": 4,
   "id": "6bcd650f",
   "metadata": {
    "scrolled": false
   },
   "outputs": [],
   "source": [
    "Browser.jquery()\n",
    "XML=Browser(\"\"\"\n",
    "XML=$(\"<xml />\")\n",
    "$('span div.s-main-slot').children().has('img').each(function(){\n",
    "\n",
    "    var Price=$(this).find('a span.a-price-whole').text()\n",
    "    if(! Price){Price=-999}\n",
    "    var Price=$('<price />',{text:Price})\n",
    "    var Picture=$('<picture />',{src:$(this).find('img').attr('src')})\n",
    "    var Description=$('<Description />', {text:$(this).find('a span.a-text-normal').text()})\n",
    "    $(\"<product />\").append([Description,Picture,Price]).appendTo(XML)\n",
    "    console.log(this)\n",
    "})\n",
    "return $(XML).prop('outerHTML');\n",
    "\"\"\") \n",
    "# Esentially what this code does is to create an empty XML file and read all the products available,\n",
    "# Then it finds the product's Price Picture and the description and it parses the created xml file then returns it\n",
    "\n",
    "# The schema of xml is as follows\n",
    "\n",
    "# <xml>\n",
    "#   <product>\n",
    "#     <description>\n",
    "#         A nice Shoe\n",
    "#     </description>\n",
    "#     <price>\n",
    "#         100. \n",
    "#     </price>\n",
    "#     <picture src=\"the source of the image of the product\"/>\n",
    "#   </product>\n",
    "# </xml>"
   ]
  },
  {
   "cell_type": "code",
   "execution_count": 5,
   "id": "4459c10e",
   "metadata": {
    "scrolled": false
   },
   "outputs": [
    {
     "data": {
      "text/plain": [
       "'<xml><product><description>adidas Women\\'s Cloudfoam Pure 2.0 Running Shoes</description><picture src=\"https://m.media-amazon.com/images/I/71HsKn-2HjS._AC_UL320_.jpg\"></picture><price>69.</price></product><product><description>Skechers Men\\'s Go Walk Evolution Ultra - Impeccable Walking Shoe</description><picture src=\"https://m.media-amazon.com/images/I/81HctfkLf7L._AC_UL320_.jpg\"></picture><price>46.</price></product><product><description>adidas Women\\'s Cloudfoam Pure Running Shoe</description><picture src=\"https://m.media-amazon.com/images/I/81zc8i+8qfL._AC_UL320_.jpg\"></picture><price>44.</price></product><product><description>New Balance Men\\'s Fresh Foam Arishi V3 Running Shoe</description><picture src=\"https://m.media-amazon.com/images/I/71BqvFUcgoL._AC_UL320_.jpg\"></picture><price>-999</price></product><product><description>JSLEAP Mens Running Shoes Walking Non Slip Blade Type Sneakers</description><picture src=\"https://m.media-amazon.com/images/I/81m7AvcXW7L._AC_UL320_.jpg\"></picture><price>46.</price></product><product><description>Skechers Men\\'s Classic Fit-delson-Camden Sneaker</description><picture src=\"https://m.media-amazon.com/images/I/813N4tHPOKL._AC_UL320_.jpg\"></picture><price>49.</price></product><product><description>Under Armour Men\\'s Charged Assert 8 Mrble Running Shoe</description><picture src=\"https://m.media-amazon.com/images/I/51fjQKot6RL._AC_UL320_.jpg\"></picture><price>38.</price></product><product><description>Under Armour Men\\'s Ignite Vi Graphic Strap Slide Sandal</description><picture src=\"https://m.media-amazon.com/images/I/71k-z2Zd-wL._AC_UL320_.jpg\"></picture><price>34.</price></product><product><description>Under Armour Men\\'s Surge 2 Running Shoe</description><picture src=\"https://m.media-amazon.com/images/I/71Fom1cc1TS._AC_UL320_.jpg\"></picture><price>44.</price></product><product><description>adidas Women\\'s QT Racer 2.0 Running Shoe, White/Silver Metallic/Grey, 8.5</description><picture src=\"https://m.media-amazon.com/images/I/71lKTd2AIhL._AC_UL320_.jpg\"></picture><price>65.</price></product><product><description>adidas mens Kaptir</description><picture src=\"https://m.media-amazon.com/images/I/81A9jPN4CtL._AC_UL320_.jpg\"></picture><price>-999</price></product><product><description>VIFUUR Water Sports Shoes Barefoot Quick-Dry Aqua Yoga Socks Slip-on for Men Women</description><picture src=\"https://m.media-amazon.com/images/I/71osK-o+xuL._AC_UL320_.jpg\"></picture><price>-999</price></product><product><description>New Balance Men\\'s 623 V3 Casual Comfort Cross Trainer</description><picture src=\"https://m.media-amazon.com/images/I/81+SwSx8DSL._AC_UL320_.jpg\"></picture><price>74.</price></product><product><description>Plaka Flat Sandals for Women Palm Leaf</description><picture src=\"https://m.media-amazon.com/images/I/81lVgOzQEfL._AC_UL320_.jpg\"></picture><price>29.</price></product><product><description>Mizuno Women\\'s Wave Inspire 16 Road Running Shoe</description><picture src=\"https://m.media-amazon.com/images/I/81yo0HQx4VL._AC_UL320_.jpg\"></picture><price>79.</price></product><product><description>Flysocks Slip On Sneakers for Men-Fashion Sneakers Walking Shoes Non Slip Lightweight Breathable Mesh Running Shoes Comfortable</description><picture src=\"https://m.media-amazon.com/images/I/71PRRNkJs0L._AC_UL320_.jpg\"></picture><price>-999</price></product><product><description>Amazon Essentials Men\\'s Nolte LoaferConcept 3 by Skechers Women\\'s Liana Fashion Slip-on SneakerConcept 3 by Skechers Men\\'s Zullert Canvas Slip-on SneakerAmazon Essentials Men\\'s Lace Up Boat Shoe Sneaker</description><picture src=\"https://m.media-amazon.com/images/I/71A7wRG5YjL._AC_UL320_.jpg\"></picture><price>33.28.40.21.45.24.33.</price></product><product><description>New Balance Women\\'s 411 V1 Walking Shoe</description><picture src=\"https://m.media-amazon.com/images/I/71kN6GMBVRL._AC_UL320_.jpg\"></picture><price>44.</price></product><product><description>Skechers Men\\'s Afterburn Memory-Foam Lace-up Sneaker</description><picture src=\"https://m.media-amazon.com/images/I/71+BksVBGTL._AC_UL320_.jpg\"></picture><price>42.</price></product><product><description>Saucony Men\\'s Cohesion Tr14 Trail Running Shoe</description><picture src=\"https://m.media-amazon.com/images/I/81Z4zW+y-XL._AC_UL320_.jpg\"></picture><price>49.</price></product><product><description>Fila Women\\'s Memory Workshift Cross-Training Shoe,Black/Black/Black,8.5 M US</description><picture src=\"https://m.media-amazon.com/images/I/718my4Ao7FL._AC_UL320_.jpg\"></picture><price>33.</price></product><product><description>adidas Men\\'s Grand Court Sneaker</description><picture src=\"https://m.media-amazon.com/images/I/61FbqzPD8TL._AC_UL320_.jpg\"></picture><price>55.</price></product><product><description>New Balance Women\\'s Fresh Foam Roav V1 Running Shoe</description><picture src=\"https://m.media-amazon.com/images/I/7195tgG5WPL._AC_UL320_.jpg\"></picture><price>-999</price></product><product><description>Margaritaville Men\\'s Dock Slip On Boat Shoe</description><picture src=\"https://m.media-amazon.com/images/I/81EA+p9yJBL._AC_UL320_.jpg\"></picture><price>51.</price></product><product><description>Fila Men’s Memory Workshift Slip Resistant Work Shoe</description><picture src=\"https://m.media-amazon.com/images/I/81Bz-5vMe2L._AC_UL320_.jpg\"></picture><price>33.</price></product><product><description>Rockport Men\\'s Eureka Walking Shoe</description><picture src=\"https://m.media-amazon.com/images/I/61zTzBDnq7L._AC_UL320_.jpg\"></picture><price>59.</price></product><product><description>Dr. Scholl\\'s Shoes Men\\'s Gaston</description><picture src=\"https://m.media-amazon.com/images/I/81osxfGXFAL._AC_UL320_.jpg\"></picture><price>49.</price></product><product><description>Lugz Men\\'s Lear Sneaker</description><picture src=\"https://m.media-amazon.com/images/I/614Mhl5IemS._AC_UL320_.jpg\"></picture><price>29.</price></product><product><description>adidas Women\\'s Duramo Sl Running Shoe</description><picture src=\"https://m.media-amazon.com/images/I/71iYhA+UndL._AC_UL320_.jpg\"></picture><price>-999</price></product><product><description>ECCO Women\\'s Biom Hybrid 3 Boa Gore-tex Golf Shoe</description><picture src=\"https://m.media-amazon.com/images/I/71nQxRtWDBL._AC_UL320_.jpg\"></picture><price>-999</price></product><product><description>New Balance Men\\'s 877 V1 Walking Shoe</description><picture src=\"https://m.media-amazon.com/images/I/81PjNcRMdsL._AC_UL320_.jpg\"></picture><price>-999</price></product><product><description>Feethit Womens Slip On Walking&nbsp;Shoes Non Slip Running Shoes Breathable Lightweight Gym Sneakers</description><picture src=\"https://m.media-amazon.com/images/I/71R2133PChL._AC_UL320_.jpg\"></picture><price>-999</price></product><product><description>Steve Madden Men\\'s Fenta Fashion Sneaker</description><picture src=\"https://m.media-amazon.com/images/I/813UuOjWfZL._AC_UL320_.jpg\"></picture><price>55.</price></product><product><description>Amazon Essentials Men\\'s Lace Up Boat Shoe Sneaker</description><picture src=\"https://m.media-amazon.com/images/I/711+qVD583L._AC_UL320_.jpg\"></picture><price>33.</price></product><product><description>Fila Women\\'s Memory Workshift Cross-Training Shoe,Black/Black/Black,8 M US</description><picture src=\"https://m.media-amazon.com/images/I/718my4Ao7FL._AC_UL320_.jpg\"></picture><price>33.</price></product><product><description>Under Armour Men\\'s Charged Pursuit 2 Running Shoe</description><picture src=\"https://m.media-amazon.com/images/I/711P7s-h47S._AC_UL320_.jpg\"></picture><price>69.</price></product><product><description>adidas outdoor Men\\'s Terrex Ax3 Hiking Boot</description><picture src=\"https://m.media-amazon.com/images/I/81JVjPdq3iL._AC_UL320_.jpg\"></picture><price>-999</price></product><product><description>JIASUQI Athletic Hiking Water Shoes Barefoot Aqua Swim Sports Sandals Walking Shoes for Women Men</description><picture src=\"https://m.media-amazon.com/images/I/71z2KrJ-zeL._AC_UL320_.jpg\"></picture><price>-999</price></product><product><description>Under Armour Men\\'s Charged Assert 9 Running Shoe</description><picture src=\"https://m.media-amazon.com/images/I/71oNa25Pz2L._AC_UL320_.jpg\"></picture><price>52.</price></product><product><description>Mizuno Men\\'s Wave Inspire 16 Waveknit Road Running Shoe</description><picture src=\"https://m.media-amazon.com/images/I/61N9A6k7NrL._AC_UL320_.jpg\"></picture><price>85.</price></product><product><description>adidas Men\\'s Kaptur Sneaker</description><picture src=\"https://m.media-amazon.com/images/I/81hu2KbtkxL._AC_UL320_.jpg\"></picture><price>-999</price></product><product><description>Skechers for Work Men\\'s Felton Slip Resistant Relaxed-Fit Work Shoe</description><picture src=\"https://m.media-amazon.com/images/I/81DsX9TCDJL._AC_UL320_.jpg\"></picture><price>40.</price></product><product><description>Reebok Women\\'s Classic Renaissance Sneaker</description><picture src=\"https://m.media-amazon.com/images/I/71ibkluCx1L._AC_UL320_.jpg\"></picture><price>-999</price></product><product><description>Under Armour Men\\'s Charged Bandit 6 Running Shoe</description><picture src=\"https://m.media-amazon.com/images/I/71eB5XBJs4L._AC_UL320_.jpg\"></picture><price>64.</price></product><product><description>Reebok Men\\'s Rb4041 Sublite Cushion Safety Toe Athletic Work Industrial &amp; Construction Shoe</description><picture src=\"https://m.media-amazon.com/images/I/81JK8EnU3ZL._AC_UL320_.jpg\"></picture><price>66.</price></product><product><description>UMYOGO Mens Athletic Walking Blade Running Tennis Shoes Fashion Sneakers</description><picture src=\"https://m.media-amazon.com/images/I/71t9MVTkViL._AC_UL320_.jpg\"></picture><price>46.</price></product><product><description>Skechers for Work 77055 Cankton Athletic Steel Toe work sneaker</description><picture src=\"https://m.media-amazon.com/images/I/81LndGprfVL._AC_UL320_.jpg\"></picture><price>59.</price></product><product><description>UMYOGO Women\\'s Running Shoes Non Slip Athletic Tennis Walking Blade Type Sneakers</description><picture src=\"https://m.media-amazon.com/images/I/81AEjUbU1aL._AC_UL320_.jpg\"></picture><price>-999</price></product><product><description>ANLUKE Water Shoes Barefoot Aqua Yoga Socks Quick-Dry Beach Swim Surf Shoes for Women Men</description><picture src=\"https://m.media-amazon.com/images/I/71AUPTuNojS._AC_UL320_.jpg\"></picture><price>10.</price></product><product><description>JointlyCreating Womens Non Slip Running Shoes Athletic Tennis Sneakers Sports Walking Shoes</description><picture src=\"https://m.media-amazon.com/images/I/81MewvEOkGL._AC_UL320_.jpg\"></picture><price>46.</price></product><product><description>adidas Originals Women\\'s Stan Smith, White/White/Green, 8</description><picture src=\"https://m.media-amazon.com/images/I/71bJiy+4PyL._AC_UL320_.jpg\"></picture><price>67.</price></product><product><description>ECCO Women\\'s Biom G3 Gore-tex Golf Shoe</description><picture src=\"https://m.media-amazon.com/images/I/719HC+vwFhL._AC_UL320_.jpg\"></picture><price>179.</price></product><product><description>Crocs Unisex Bistro Batali Edition Clog</description><picture src=\"https://m.media-amazon.com/images/I/81-EqlhSNrL._AC_UL320_.jpg\"></picture><price>49.</price></product><product><description>Capezio Women\\'s CG17 Fluid Tap Shoe</description><picture src=\"https://m.media-amazon.com/images/I/71Papil8A9L._AC_UL320_.jpg\"></picture><price>55.</price></product><product><description>OshKosh B\\'Gosh Unisex-Child Everplay Bohemia Running Shoe</description><picture src=\"https://m.media-amazon.com/images/I/81Jz10PujqL._AC_UL320_.jpg\"></picture><price>24.</price></product><product><description>Capezio Men\\'s SD103 Social Dance Shoe</description><picture src=\"https://m.media-amazon.com/images/I/81i9iGLUWnL._AC_UL320_.jpg\"></picture><price>70.</price></product><product><description>Dearfoams Men\\'s Brendan Microfiber Suede Clog Slipper</description><picture src=\"https://m.media-amazon.com/images/I/813j3C8Kf6S._AC_UL320_.jpg\"></picture><price>28.</price></product><product><description>K-Swiss Men\\'s ST-329 CMF Sneaker</description><picture src=\"https://m.media-amazon.com/images/I/81XsUDVtfAL._AC_UL320_.jpg\"></picture><price>67.</price></product><product><description></description><picture src=\"https://m.media-amazon.com/images/G/01/AMAZON_FASHION/2021/SITE_FLIPS/SUM_1/Bubblers/SummerFlip_Bubblers_NotextDG_SalesandDeals.jpg\"></picture><price>-999</price></product><product><description></description><picture src=\"https://m.media-amazon.com/images/I/61YWoo-3NTL._AC_SL139_QL70_.jpg\"></picture><price>-999</price></product></xml>'"
      ]
     },
     "execution_count": 5,
     "metadata": {},
     "output_type": "execute_result"
    }
   ],
   "source": [
    "XML"
   ]
  }
 ],
 "metadata": {
  "kernelspec": {
   "display_name": "Python 3",
   "language": "python",
   "name": "python3"
  },
  "language_info": {
   "codemirror_mode": {
    "name": "ipython",
    "version": 3
   },
   "file_extension": ".py",
   "mimetype": "text/x-python",
   "name": "python",
   "nbconvert_exporter": "python",
   "pygments_lexer": "ipython3",
   "version": "3.8.5"
  }
 },
 "nbformat": 4,
 "nbformat_minor": 5
}
