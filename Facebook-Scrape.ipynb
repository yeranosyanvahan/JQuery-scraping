{
 "cells": [
  {
   "cell_type": "code",
   "execution_count": 18,
   "id": "04ff7d13",
   "metadata": {},
   "outputs": [],
   "source": [
    "from Browser import BROWSER\n",
    "from time import sleep\n",
    "from random import random"
   ]
  },
  {
   "cell_type": "code",
   "execution_count": 2,
   "id": "03e1687e",
   "metadata": {
    "scrolled": false
   },
   "outputs": [
    {
     "name": "stderr",
     "output_type": "stream",
     "text": [
      "\n",
      "\n",
      "====== WebDriver manager ======\n",
      "Driver [C:\\Users\\yeran\\.wdm\\drivers\\geckodriver\\win64\\v0.30.0\\geckodriver.exe] found in cache\n"
     ]
    }
   ],
   "source": [
    "# Scraping Hti Armenia\n",
    "Browser=BROWSER(\"https://m.facebook.com/pg/Hti.Armenia/posts/\") # You should now see a new browser emulator (selenium) to come up\n",
    "Browser.jquery() #this line is to have jquery library installed on the current tab"
   ]
  },
  {
   "cell_type": "code",
   "execution_count": 3,
   "id": "0ce5174c",
   "metadata": {},
   "outputs": [],
   "source": [
    "L=[]\n",
    "def saving():\n",
    "    global L\n",
    "    Browser.jquery()\n",
    "    l=Browser(\n",
    "    \"\"\"\n",
    "    L=[]\n",
    "    function extract(index,sample)\n",
    "    {\n",
    "        let text=[]\n",
    "        let time=[]\n",
    "        let likes=[]\n",
    "        $(sample).find('abbr').each((index,sample)=>{time.push(sample.textContent)})\n",
    "        $(sample).find('p').each((index,sample)=>{text.push(sample.textContent)})\n",
    "        $(sample).find('.like_def ').each((index,sample)=>{likes.push(sample.textContent)})\n",
    "        L.push(JSON.stringify({time,text,likes}))\n",
    "    }\n",
    "    $(\"article\").each(extract)\n",
    "    return L\n",
    "    \"\"\")\n",
    "    \n",
    "    if(len(l)==0):\n",
    "        return False\n",
    "    L=[eval(ll) for ll in l]\n",
    "    return True"
   ]
  },
  {
   "cell_type": "code",
   "execution_count": 4,
   "id": "ad51ca2c",
   "metadata": {},
   "outputs": [],
   "source": [
    "def Thread():\n",
    " for _ in range(2000):\n",
    "    sleep(random()*2)\n",
    "    Browser.jquery()\n",
    "    Browser(\"\"\"window.scrollTo(0,document.body.scrollHeight);\"\"\")\n",
    "    if(not saving()):\n",
    "        break"
   ]
  },
  {
   "cell_type": "code",
   "execution_count": 5,
   "id": "d008360b",
   "metadata": {},
   "outputs": [],
   "source": [
    "# do it in background\n",
    "\n",
    "import threading\n",
    "\n",
    "thread = threading.Thread(target=Thread, args=())\n",
    "thread.daemon = True\n",
    "thread.start()"
   ]
  },
  {
   "cell_type": "code",
   "execution_count": 21,
   "id": "29518e8f",
   "metadata": {},
   "outputs": [],
   "source": [
    "import pandas as pd\n",
    "df=pd.DataFrame(L)\n",
    "#Save it somewhere for future projects \n",
    "df.to_csv('../NLP/scrape.csv',index=False)"
   ]
  },
  {
   "cell_type": "code",
   "execution_count": null,
   "id": "d38e641e",
   "metadata": {},
   "outputs": [],
   "source": []
  },
  {
   "cell_type": "code",
   "execution_count": null,
   "id": "50a63d7c",
   "metadata": {},
   "outputs": [],
   "source": []
  },
  {
   "cell_type": "code",
   "execution_count": null,
   "id": "8650be23",
   "metadata": {},
   "outputs": [],
   "source": []
  },
  {
   "cell_type": "code",
   "execution_count": null,
   "id": "fcde683b",
   "metadata": {},
   "outputs": [],
   "source": []
  }
 ],
 "metadata": {
  "kernelspec": {
   "display_name": "Python 3",
   "language": "python",
   "name": "python3"
  },
  "language_info": {
   "codemirror_mode": {
    "name": "ipython",
    "version": 3
   },
   "file_extension": ".py",
   "mimetype": "text/x-python",
   "name": "python",
   "nbconvert_exporter": "python",
   "pygments_lexer": "ipython3",
   "version": "3.8.5"
  }
 },
 "nbformat": 4,
 "nbformat_minor": 5
}
