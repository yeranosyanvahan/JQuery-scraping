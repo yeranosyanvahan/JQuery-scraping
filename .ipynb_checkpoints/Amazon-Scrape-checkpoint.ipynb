{
 "cells": [
  {
   "cell_type": "code",
   "execution_count": 1,
   "id": "7d5c2a25",
   "metadata": {},
   "outputs": [],
   "source": [
    "from Browser import BROWSER"
   ]
  },
  {
   "cell_type": "code",
   "execution_count": 2,
   "id": "215fe1b9",
   "metadata": {},
   "outputs": [
    {
     "name": "stderr",
     "output_type": "stream",
     "text": [
      "\n",
      "\n",
      "====== WebDriver manager ======\n",
      "Current google-chrome version is 91.0.4472\n",
      "Get LATEST driver version for 91.0.4472\n",
      "Driver [C:\\Users\\yeran\\.wdm\\drivers\\chromedriver\\win32\\91.0.4472.101\\chromedriver.exe] found in cache\n"
     ]
    }
   ],
   "source": [
    "Browser=BROWSER(\"https://amazon.com\") # You should now see a new browser emulator (selenium) to come up\n",
    "Browser.jquery() #this line is to have jquery library installed on the current tab"
   ]
  },
  {
   "cell_type": "code",
   "execution_count": 3,
   "id": "860aced8",
   "metadata": {},
   "outputs": [],
   "source": [
    "Browser(\"\"\"\n",
    " $('input#twotabsearchtextbox').val('Shoes')\n",
    " $('input#nav-search-submit-button').click()\n",
    " \"\"\") # Try to see what is happening after running this bit of code"
   ]
  },
  {
   "cell_type": "code",
   "execution_count": 4,
   "id": "69d76bc0",
   "metadata": {
    "scrolled": false
   },
   "outputs": [
    {
     "data": {
      "text/plain": [
       "'<'"
      ]
     },
     "execution_count": 4,
     "metadata": {},
     "output_type": "execute_result"
    }
   ],
   "source": [
    "Browser.jquery()\n",
    "XML=Browser(\"\"\"\n",
    "XML=$(\"<xml />\")\n",
    "$('span div.s-main-slot').children().has('img').each(function(){\n",
    "\n",
    "    var Price=$(this).find('a span.a-price-whole').text()\n",
    "    if(! Price){Price=-999}\n",
    "    var Price=$('<price />',{text:Price})\n",
    "    var Picture=$('<picture />',{src:$(this).find('img').attr('src')})\n",
    "    var Description=$('<Description />', {text:$(this).find('a span.a-text-normal').text()})\n",
    "    $(\"<product />\").append([Description,Picture,Price]).appendTo(XML)\n",
    "    console.log(this)\n",
    "})\n",
    "return $(XML).prop('outerHTML');\n",
    "\"\"\") \n",
    "# Esentially what this code does is to create an empty XML file and read all the products available,\n",
    "# Then it finds the product's Price Picture and the description and it parses the created xml file then returns it\n",
    "\n",
    "# The schema of xml is as follows\n",
    "\n",
    "# <xml>\n",
    "#   <product>\n",
    "#     <description>\n",
    "#         A nice Shoe\n",
    "#     </description>\n",
    "#     <price>\n",
    "#         100. \n",
    "#     </price>\n",
    "#     <picture src=\"the source of the image of the product\"/>\n",
    "#   </product>\n",
    "# </xml>"
   ]
  },
  {
   "cell_type": "code",
   "execution_count": 7,
   "id": "728ae833",
   "metadata": {
    "scrolled": false
   },
   "outputs": [
    {
     "data": {
      "text/plain": [
       "'<xml><product><description>Concept 3 by Skechers Men\\'s Eakins Lace-up Sneaker</description><picture src=\"https://m.media-amazon.com/images/I/7122TK8dCTS._AC_UL320_.jpg\"></picture><price>43.</price></product><product><description>Butterfly Lezoline Trynex Shoes</description><picture src=\"https://m.media-amazon.com/images/I/712t9J8njdS._AC_UL320_.jpg\"></picture><price>79.</price></product><product><description>Skechers Men\\'s Go Walk Evolution Ultra - Impeccable Walking Shoe</description><picture src=\"https://m.media-amazon.com/images/I/81HctfkLf7L._AC_UL320_.jpg\"></picture><price>46.</price></product><product><description>adidas Women\\'s Cloudfoam Pure Running Shoe</description><picture src=\"https://m.media-amazon.com/images/I/71G0sB8FnFL._AC_UL320_.jpg\"></picture><price>43.</price></product><product><description>adidas Men\\'s Advantage Sneaker</description><picture src=\"https://m.media-amazon.com/images/I/61B4QM1axWL._AC_UL320_.jpg\"></picture><price>32.</price></product><product><description>Under Armour Men\\'s Surge 2 Running Shoe</description><picture src=\"https://m.media-amazon.com/images/I/71Fom1cc1TS._AC_UL320_.jpg\"></picture><price>44.</price></product><product><description>Under Armour Men\\'s Charged Assert 8 Mrble Running Shoe</description><picture src=\"https://m.media-amazon.com/images/I/51fjQKot6RL._AC_UL320_.jpg\"></picture><price>38.</price></product><product><description>New Balance Men\\'s Fresh Foam Arishi V3 Running Shoe</description><picture src=\"https://m.media-amazon.com/images/I/71BqvFUcgoL._AC_UL320_.jpg\"></picture><price>64.</price></product><product><description>adidas Men\\'s Lite Racer Adapt 3.0 Running Shoe</description><picture src=\"https://m.media-amazon.com/images/I/71witg-CFQL._AC_UL320_.jpg\"></picture><price>-999</price></product><product><description>Skechers Men\\'s Afterburn Memory-Foam Lace-up Sneaker</description><picture src=\"https://m.media-amazon.com/images/I/71+BksVBGTL._AC_UL320_.jpg\"></picture><price>42.</price></product><product><description>New Balance Men\\'s 623 V3 Casual Comfort Cross Trainer</description><picture src=\"https://m.media-amazon.com/images/I/81+SwSx8DSL._AC_UL320_.jpg\"></picture><price>74.</price></product><product><description>adidas Men\\'s Grand Court Sneaker</description><picture src=\"https://m.media-amazon.com/images/I/61FbqzPD8TL._AC_UL320_.jpg\"></picture><price>55.</price></product><product><description>New Balance Women\\'s FuelCore Nergize V1 Sneaker</description><picture src=\"https://m.media-amazon.com/images/I/71GyzXlZlRL._AC_UL320_.jpg\"></picture><price>-999</price></product><product><description>Skechers Men\\'s Classic Fit-delson-Camden Sneaker</description><picture src=\"https://m.media-amazon.com/images/I/813N4tHPOKL._AC_UL320_.jpg\"></picture><price>49.</price></product><product><description>Concept 3 by Skechers Men\\'s Naiter Mesh Slip-on Casual Sneaker</description><picture src=\"https://m.media-amazon.com/images/I/81vcx6kwr8S._AC_UL320_.jpg\"></picture><price>40.</price></product><product><description>Skechers Women\\'s Go Walk Joy Walking Shoe</description><picture src=\"https://m.media-amazon.com/images/I/81kmU+BpSQL._AC_UL320_.jpg\"></picture><price>39.</price></product><product><description>New Balance Men\\'s 877 V1 Walking Shoe</description><picture src=\"https://m.media-amazon.com/images/I/81PjNcRMdsL._AC_UL320_.jpg\"></picture><price>-999</price></product><product><description>Steve Madden Men\\'s Fenta Fashion Sneaker</description><picture src=\"https://m.media-amazon.com/images/I/813UuOjWfZL._AC_UL320_.jpg\"></picture><price>55.</price></product><product><description>Amazon Essentials Men\\'s Nolte LoaferConcept 3 by Skechers Women\\'s Liana Fashion Slip-on SneakerConcept 3 by Skechers Men\\'s Zullert Canvas Slip-on SneakerAmazon Essentials Men\\'s Lace Up Boat Shoe Sneaker</description><picture src=\"https://m.media-amazon.com/images/I/71A7wRG5YjL._AC_UL320_.jpg\"></picture><price>33.28.40.21.45.24.33.</price></product><product><description>New Balance Men\\'s 608 V5 Casual Comfort Cross Trainer</description><picture src=\"https://m.media-amazon.com/images/I/71I2Hf4x0SL._AC_UL320_.jpg\"></picture><price>54.</price></product><product><description>Fila Men’s Memory Workshift Slip Resistant Work Shoe</description><picture src=\"https://m.media-amazon.com/images/I/81Bz-5vMe2L._AC_UL320_.jpg\"></picture><price>33.</price></product><product><description>adidas Men\\'s Tech Response Golf Shoes</description><picture src=\"https://m.media-amazon.com/images/I/81oxMLJkJNL._AC_UL320_.jpg\"></picture><price>69.</price></product><product><description>Under Armour Men\\'s Charged Pursuit 2 Running Shoe</description><picture src=\"https://m.media-amazon.com/images/I/81ftN0Y1IgL._AC_UL320_.jpg\"></picture><price>59.</price></product><product><description>adidas Women\\'s Cloudfoam Pure 2.0 Running Shoes</description><picture src=\"https://m.media-amazon.com/images/I/71HsKn-2HjS._AC_UL320_.jpg\"></picture><price>69.</price></product><product><description>Reebok Women\\'s Princess-Sneaker Casual Joggers</description><picture src=\"https://m.media-amazon.com/images/I/51UaBdEHuiL._AC_UL320_.jpg\"></picture><price>35.</price></product><product><description>Merrell Men\\'s Jungle Moc Slip-On Shoe</description><picture src=\"https://m.media-amazon.com/images/I/81W2Ly9h+-L._AC_UL320_.jpg\"></picture><price>79.</price></product><product><description>Under Armour Men\\'s Charged Assert 9 Running Shoe</description><picture src=\"https://m.media-amazon.com/images/I/71oNa25Pz2L._AC_UL320_.jpg\"></picture><price>52.</price></product><product><description>Skechers Sport Women\\'s D\\'Lites Slip-On Mule Sneaker</description><picture src=\"https://m.media-amazon.com/images/I/61mNnHPXt6L._AC_UL320_.jpg\"></picture><price>44.</price></product><product><description>Rockport Men\\'s Eureka Walking Shoe</description><picture src=\"https://m.media-amazon.com/images/I/61zTzBDnq7L._AC_UL320_.jpg\"></picture><price>59.</price></product><product><description>Dr. Scholl\\'s Shoes Men\\'s Gaston</description><picture src=\"https://m.media-amazon.com/images/I/81osxfGXFAL._AC_UL320_.jpg\"></picture><price>49.</price></product><product><description>K-Swiss Men\\'s ST-329 CMF Sneaker</description><picture src=\"https://m.media-amazon.com/images/I/81XsUDVtfAL._AC_UL320_.jpg\"></picture><price>67.</price></product><product><description>adidas Women\\'s Grand Court Sneaker</description><picture src=\"https://m.media-amazon.com/images/I/71qdoDlEOpL._AC_UL320_.jpg\"></picture><price>59.</price></product><product><description>New Balance Women\\'s 411 V1 Walking Shoe</description><picture src=\"https://m.media-amazon.com/images/I/71kN6GMBVRL._AC_UL320_.jpg\"></picture><price>44.</price></product><product><description>Hey Dude Men\\'s Wally Sox Loafer</description><picture src=\"https://m.media-amazon.com/images/I/81MevFZEePL._AC_UL320_.jpg\"></picture><price>59.</price></product><product><description>Timberland Men\\'s White Ledge Mid Waterproof Ankle Boot</description><picture src=\"https://m.media-amazon.com/images/I/71iWLNVDL3L._AC_UL320_.jpg\"></picture><price>99.</price></product><product><description>Skechers for Work Men\\'s Felton Slip Resistant Relaxed-Fit Work Shoe</description><picture src=\"https://m.media-amazon.com/images/I/81DsX9TCDJL._AC_UL320_.jpg\"></picture><price>40.</price></product><product><description>Clarks Women\\'s Breeze Sea</description><picture src=\"https://m.media-amazon.com/images/I/71ragcm5yqL._AC_UL320_.jpg\"></picture><price>39.</price></product><product><description>Under Armour Men\\'s Ignite Vi Graphic Strap Slide Sandal</description><picture src=\"https://m.media-amazon.com/images/I/71k-z2Zd-wL._AC_UL320_.jpg\"></picture><price>34.</price></product><product><description>ASICS Men\\'s Gel-Venture 7 Running Shoes</description><picture src=\"https://m.media-amazon.com/images/I/716BP19aFpL._AC_UL320_.jpg\"></picture><price>-999</price></product><product><description>New Balance Women\\'s 577 V4 Cross Trainer</description><picture src=\"https://m.media-amazon.com/images/I/81fW+OBIPgL._AC_UL320_.jpg\"></picture><price>56.</price></product><product><description>adidas Women\\'s Duramo Sl Running Shoe</description><picture src=\"https://m.media-amazon.com/images/I/71P5P2KtS-L._AC_UL320_.jpg\"></picture><price>58.</price></product><product><description>Skechers Women\\'s Squad Sr Food Service Shoe</description><picture src=\"https://m.media-amazon.com/images/I/81MExQv49WL._AC_UL320_.jpg\"></picture><price>42.</price></product><product><description>adidas mens Kaptir</description><picture src=\"https://m.media-amazon.com/images/I/81A9jPN4CtL._AC_UL320_.jpg\"></picture><price>-999</price></product><product><description>New Balance Women\\'s FuelCore Nergize Sport V1 Sneaker</description><picture src=\"https://m.media-amazon.com/images/I/61bAKK7+y3L._AC_UL320_.jpg\"></picture><price>55.</price></product><product><description>Ryka Women\\'s Devotion Plus 2 Walking Shoe</description><picture src=\"https://m.media-amazon.com/images/I/81vq6+ldOTL._AC_UL320_.jpg\"></picture><price>60.</price></product><product><description>New Balance Men\\'s 411 V1 Walking Shoe</description><picture src=\"https://m.media-amazon.com/images/I/81tPQMl6nIL._AC_UL320_.jpg\"></picture><price>54.</price></product><product><description>Skechers Men\\'s Cessnock Food Service Shoe</description><picture src=\"https://m.media-amazon.com/images/I/61XpDRTeG-L._AC_UL320_.jpg\"></picture><price>50.</price></product><product><description>Under Armour Men\\'s Charged Pursuit 2 Special Edition Running Shoe</description><picture src=\"https://m.media-amazon.com/images/I/81o1HrRseQL._AC_UL320_.jpg\"></picture><price>69.</price></product><product><description>adidas Men\\'s Grand Court Se Tennis Shoe</description><picture src=\"https://m.media-amazon.com/images/I/71PnlRIdFyL._AC_UL320_.jpg\"></picture><price>59.</price></product><product><description>New Balance Women\\'s 608 V5 Casual Comfort Cross Trainer</description><picture src=\"https://m.media-amazon.com/images/I/61alcr5GlXL._AC_UL320_.jpg\"></picture><price>49.</price></product><product><description>adidas Men\\'s Daily 3.0 Skate Shoe</description><picture src=\"https://m.media-amazon.com/images/I/8176OVh-gaL._AC_UL320_.jpg\"></picture><price>-999</price></product><product><description>New Balance Women\\'s Fresh Foam Roav V1 Running Shoe</description><picture src=\"https://m.media-amazon.com/images/I/61m+Y+BT52L._AC_UL320_.jpg\"></picture><price>73.</price></product><product><description>Rockport Men\\'s Eureka Walking Shoe</description><picture src=\"https://m.media-amazon.com/images/I/61OIKlTtRxL._AC_UL320_.jpg\"></picture><price>59.</price></product><product><description>Skechers Men\\'s Expected Avillo</description><picture src=\"https://m.media-amazon.com/images/I/71R82qHGjUL._AC_UL320_.jpg\"></picture><price>42.</price></product><product><description>New Balance Men\\'s DRFT V1 Running Shoe</description><picture src=\"https://m.media-amazon.com/images/I/71TXXG+3SqL._AC_UL320_.jpg\"></picture><price>-999</price></product><product><description>K-Swiss Men\\'s ST329 CMF Training Shoe</description><picture src=\"https://m.media-amazon.com/images/I/61Lu7e8M1LL._AC_UL320_.jpg\"></picture><price>68.</price></product><product><description>Capezio Women\\'s DS24 Rockit Dance Sneaker</description><picture src=\"https://m.media-amazon.com/images/I/81bhBSd1EwL._AC_UL320_.jpg\"></picture><price>55.</price></product><product><description>Capezio Women\\'s CG17 Fluid Tap Shoe</description><picture src=\"https://m.media-amazon.com/images/I/71Papil8A9L._AC_UL320_.jpg\"></picture><price>55.</price></product><product><description>Venum Elite Boxing Shoes</description><picture src=\"https://m.media-amazon.com/images/I/71Cgrid50QL._AC_UL320_.jpg\"></picture><price>142.</price></product><product><description>Ryka Women\\'s Vida RZX Cross Trainer</description><picture src=\"https://m.media-amazon.com/images/I/71HfU1jknlL._AC_UL320_.jpg\"></picture><price>73.</price></product><product><description>Ryka Women\\'s Devotion XT Sneaker</description><picture src=\"https://m.media-amazon.com/images/I/81r0NlwzKcL._AC_UL320_.jpg\"></picture><price>67.</price></product><product><description></description><picture src=\"https://m.media-amazon.com/images/G/01/AMAZON_FASHION/2021/SITE_FLIPS/SUM_1/Bubblers/SummerFlip_Bubblers_NotextDG_SalesandDeals.jpg\"></picture><price>-999</price></product><product><description></description><picture src=\"https://m.media-amazon.com/images/I/816+-jSPFTL._AC_SL139_QL70_.jpg\"></picture><price>-999</price></product></xml>'"
      ]
     },
     "execution_count": 7,
     "metadata": {},
     "output_type": "execute_result"
    }
   ],
   "source": [
    "XML"
   ]
  },
  {
   "cell_type": "code",
   "execution_count": 5,
   "id": "b00ed896",
   "metadata": {
    "scrolled": false
   },
   "outputs": [
    {
     "data": {
      "text/plain": [
       "'<xml><product><description>Concept 3 by Skechers Men\\'s Eakins Lace-up Sneaker</description><picture src=\"https://m.media-amazon.com/images/I/7122TK8dCTS._AC_UL320_.jpg\"></picture><price>43.</price></product><product><description>Butterfly Lezoline Trynex Shoes</description><picture src=\"https://m.media-amazon.com/images/I/712t9J8njdS._AC_UL320_.jpg\"></picture><price>79.</price></product><product><description>Skechers Men\\'s Go Walk Evolution Ultra - Impeccable Walking Shoe</description><picture src=\"https://m.media-amazon.com/images/I/81HctfkLf7L._AC_UL320_.jpg\"></picture><price>46.</price></product><product><description>adidas Women\\'s Cloudfoam Pure Running Shoe</description><picture src=\"https://m.media-amazon.com/images/I/71G0sB8FnFL._AC_UL320_.jpg\"></picture><price>43.</price></product><product><description>adidas Men\\'s Advantage Sneaker</description><picture src=\"https://m.media-amazon.com/images/I/61B4QM1axWL._AC_UL320_.jpg\"></picture><price>32.</price></product><product><description>Under Armour Men\\'s Surge 2 Running Shoe</description><picture src=\"https://m.media-amazon.com/images/I/71Fom1cc1TS._AC_UL320_.jpg\"></picture><price>44.</price></product><product><description>Under Armour Men\\'s Charged Assert 8 Mrble Running Shoe</description><picture src=\"https://m.media-amazon.com/images/I/51fjQKot6RL._AC_UL320_.jpg\"></picture><price>38.</price></product><product><description>New Balance Men\\'s Fresh Foam Arishi V3 Running Shoe</description><picture src=\"https://m.media-amazon.com/images/I/71BqvFUcgoL._AC_UL320_.jpg\"></picture><price>64.</price></product><product><description>adidas Men\\'s Lite Racer Adapt 3.0 Running Shoe</description><picture src=\"https://m.media-amazon.com/images/I/71witg-CFQL._AC_UL320_.jpg\"></picture><price>-999</price></product><product><description>Skechers Men\\'s Afterburn Memory-Foam Lace-up Sneaker</description><picture src=\"https://m.media-amazon.com/images/I/71+BksVBGTL._AC_UL320_.jpg\"></picture><price>42.</price></product><product><description>New Balance Men\\'s 623 V3 Casual Comfort Cross Trainer</description><picture src=\"https://m.media-amazon.com/images/I/81+SwSx8DSL._AC_UL320_.jpg\"></picture><price>74.</price></product><product><description>adidas Men\\'s Grand Court Sneaker</description><picture src=\"https://m.media-amazon.com/images/I/61FbqzPD8TL._AC_UL320_.jpg\"></picture><price>55.</price></product><product><description>New Balance Women\\'s FuelCore Nergize V1 Sneaker</description><picture src=\"https://m.media-amazon.com/images/I/71GyzXlZlRL._AC_UL320_.jpg\"></picture><price>-999</price></product><product><description>Skechers Men\\'s Classic Fit-delson-Camden Sneaker</description><picture src=\"https://m.media-amazon.com/images/I/813N4tHPOKL._AC_UL320_.jpg\"></picture><price>49.</price></product><product><description>Concept 3 by Skechers Men\\'s Naiter Mesh Slip-on Casual Sneaker</description><picture src=\"https://m.media-amazon.com/images/I/81vcx6kwr8S._AC_UL320_.jpg\"></picture><price>40.</price></product><product><description>Skechers Women\\'s Go Walk Joy Walking Shoe</description><picture src=\"https://m.media-amazon.com/images/I/81kmU+BpSQL._AC_UL320_.jpg\"></picture><price>39.</price></product><product><description>New Balance Men\\'s 877 V1 Walking Shoe</description><picture src=\"https://m.media-amazon.com/images/I/81PjNcRMdsL._AC_UL320_.jpg\"></picture><price>-999</price></product><product><description>Steve Madden Men\\'s Fenta Fashion Sneaker</description><picture src=\"https://m.media-amazon.com/images/I/813UuOjWfZL._AC_UL320_.jpg\"></picture><price>55.</price></product><product><description>Amazon Essentials Men\\'s Nolte LoaferConcept 3 by Skechers Women\\'s Liana Fashion Slip-on SneakerConcept 3 by Skechers Men\\'s Zullert Canvas Slip-on SneakerAmazon Essentials Men\\'s Lace Up Boat Shoe Sneaker</description><picture src=\"https://m.media-amazon.com/images/I/71A7wRG5YjL._AC_UL320_.jpg\"></picture><price>33.28.40.21.45.24.33.</price></product><product><description>New Balance Men\\'s 608 V5 Casual Comfort Cross Trainer</description><picture src=\"https://m.media-amazon.com/images/I/71I2Hf4x0SL._AC_UL320_.jpg\"></picture><price>54.</price></product><product><description>Fila Men’s Memory Workshift Slip Resistant Work Shoe</description><picture src=\"https://m.media-amazon.com/images/I/81Bz-5vMe2L._AC_UL320_.jpg\"></picture><price>33.</price></product><product><description>adidas Men\\'s Tech Response Golf Shoes</description><picture src=\"https://m.media-amazon.com/images/I/81oxMLJkJNL._AC_UL320_.jpg\"></picture><price>69.</price></product><product><description>Under Armour Men\\'s Charged Pursuit 2 Running Shoe</description><picture src=\"https://m.media-amazon.com/images/I/81ftN0Y1IgL._AC_UL320_.jpg\"></picture><price>59.</price></product><product><description>adidas Women\\'s Cloudfoam Pure 2.0 Running Shoes</description><picture src=\"https://m.media-amazon.com/images/I/71HsKn-2HjS._AC_UL320_.jpg\"></picture><price>69.</price></product><product><description>Reebok Women\\'s Princess-Sneaker Casual Joggers</description><picture src=\"https://m.media-amazon.com/images/I/51UaBdEHuiL._AC_UL320_.jpg\"></picture><price>35.</price></product><product><description>Merrell Men\\'s Jungle Moc Slip-On Shoe</description><picture src=\"https://m.media-amazon.com/images/I/81W2Ly9h+-L._AC_UL320_.jpg\"></picture><price>79.</price></product><product><description>Under Armour Men\\'s Charged Assert 9 Running Shoe</description><picture src=\"https://m.media-amazon.com/images/I/71oNa25Pz2L._AC_UL320_.jpg\"></picture><price>52.</price></product><product><description>Skechers Sport Women\\'s D\\'Lites Slip-On Mule Sneaker</description><picture src=\"https://m.media-amazon.com/images/I/61mNnHPXt6L._AC_UL320_.jpg\"></picture><price>44.</price></product><product><description>Rockport Men\\'s Eureka Walking Shoe</description><picture src=\"https://m.media-amazon.com/images/I/61zTzBDnq7L._AC_UL320_.jpg\"></picture><price>59.</price></product><product><description>Dr. Scholl\\'s Shoes Men\\'s Gaston</description><picture src=\"https://m.media-amazon.com/images/I/81osxfGXFAL._AC_UL320_.jpg\"></picture><price>49.</price></product><product><description>K-Swiss Men\\'s ST-329 CMF Sneaker</description><picture src=\"https://m.media-amazon.com/images/I/81XsUDVtfAL._AC_UL320_.jpg\"></picture><price>67.</price></product><product><description>adidas Women\\'s Grand Court Sneaker</description><picture src=\"https://m.media-amazon.com/images/I/71qdoDlEOpL._AC_UL320_.jpg\"></picture><price>59.</price></product><product><description>New Balance Women\\'s 411 V1 Walking Shoe</description><picture src=\"https://m.media-amazon.com/images/I/71kN6GMBVRL._AC_UL320_.jpg\"></picture><price>44.</price></product><product><description>Hey Dude Men\\'s Wally Sox Loafer</description><picture src=\"https://m.media-amazon.com/images/I/81MevFZEePL._AC_UL320_.jpg\"></picture><price>59.</price></product><product><description>Timberland Men\\'s White Ledge Mid Waterproof Ankle Boot</description><picture src=\"https://m.media-amazon.com/images/I/71iWLNVDL3L._AC_UL320_.jpg\"></picture><price>99.</price></product><product><description>Skechers for Work Men\\'s Felton Slip Resistant Relaxed-Fit Work Shoe</description><picture src=\"https://m.media-amazon.com/images/I/81DsX9TCDJL._AC_UL320_.jpg\"></picture><price>40.</price></product><product><description>Clarks Women\\'s Breeze Sea</description><picture src=\"https://m.media-amazon.com/images/I/71ragcm5yqL._AC_UL320_.jpg\"></picture><price>39.</price></product><product><description>Under Armour Men\\'s Ignite Vi Graphic Strap Slide Sandal</description><picture src=\"https://m.media-amazon.com/images/I/71k-z2Zd-wL._AC_UL320_.jpg\"></picture><price>34.</price></product><product><description>ASICS Men\\'s Gel-Venture 7 Running Shoes</description><picture src=\"https://m.media-amazon.com/images/I/716BP19aFpL._AC_UL320_.jpg\"></picture><price>-999</price></product><product><description>New Balance Women\\'s 577 V4 Cross Trainer</description><picture src=\"https://m.media-amazon.com/images/I/81fW+OBIPgL._AC_UL320_.jpg\"></picture><price>56.</price></product><product><description>adidas Women\\'s Duramo Sl Running Shoe</description><picture src=\"https://m.media-amazon.com/images/I/71P5P2KtS-L._AC_UL320_.jpg\"></picture><price>58.</price></product><product><description>Skechers Women\\'s Squad Sr Food Service Shoe</description><picture src=\"https://m.media-amazon.com/images/I/81MExQv49WL._AC_UL320_.jpg\"></picture><price>42.</price></product><product><description>adidas mens Kaptir</description><picture src=\"https://m.media-amazon.com/images/I/81A9jPN4CtL._AC_UL320_.jpg\"></picture><price>-999</price></product><product><description>New Balance Women\\'s FuelCore Nergize Sport V1 Sneaker</description><picture src=\"https://m.media-amazon.com/images/I/61bAKK7+y3L._AC_UL320_.jpg\"></picture><price>55.</price></product><product><description>Ryka Women\\'s Devotion Plus 2 Walking Shoe</description><picture src=\"https://m.media-amazon.com/images/I/81vq6+ldOTL._AC_UL320_.jpg\"></picture><price>60.</price></product><product><description>New Balance Men\\'s 411 V1 Walking Shoe</description><picture src=\"https://m.media-amazon.com/images/I/81tPQMl6nIL._AC_UL320_.jpg\"></picture><price>54.</price></product><product><description>Skechers Men\\'s Cessnock Food Service Shoe</description><picture src=\"https://m.media-amazon.com/images/I/61XpDRTeG-L._AC_UL320_.jpg\"></picture><price>50.</price></product><product><description>Under Armour Men\\'s Charged Pursuit 2 Special Edition Running Shoe</description><picture src=\"https://m.media-amazon.com/images/I/81o1HrRseQL._AC_UL320_.jpg\"></picture><price>69.</price></product><product><description>adidas Men\\'s Grand Court Se Tennis Shoe</description><picture src=\"https://m.media-amazon.com/images/I/71PnlRIdFyL._AC_UL320_.jpg\"></picture><price>59.</price></product><product><description>New Balance Women\\'s 608 V5 Casual Comfort Cross Trainer</description><picture src=\"https://m.media-amazon.com/images/I/61alcr5GlXL._AC_UL320_.jpg\"></picture><price>49.</price></product><product><description>adidas Men\\'s Daily 3.0 Skate Shoe</description><picture src=\"https://m.media-amazon.com/images/I/8176OVh-gaL._AC_UL320_.jpg\"></picture><price>-999</price></product><product><description>New Balance Women\\'s Fresh Foam Roav V1 Running Shoe</description><picture src=\"https://m.media-amazon.com/images/I/61m+Y+BT52L._AC_UL320_.jpg\"></picture><price>73.</price></product><product><description>Rockport Men\\'s Eureka Walking Shoe</description><picture src=\"https://m.media-amazon.com/images/I/61OIKlTtRxL._AC_UL320_.jpg\"></picture><price>59.</price></product><product><description>Skechers Men\\'s Expected Avillo</description><picture src=\"https://m.media-amazon.com/images/I/71R82qHGjUL._AC_UL320_.jpg\"></picture><price>42.</price></product><product><description>New Balance Men\\'s DRFT V1 Running Shoe</description><picture src=\"https://m.media-amazon.com/images/I/71TXXG+3SqL._AC_UL320_.jpg\"></picture><price>-999</price></product><product><description>K-Swiss Men\\'s ST329 CMF Training Shoe</description><picture src=\"https://m.media-amazon.com/images/I/61Lu7e8M1LL._AC_UL320_.jpg\"></picture><price>68.</price></product><product><description>Capezio Women\\'s DS24 Rockit Dance Sneaker</description><picture src=\"https://m.media-amazon.com/images/I/81bhBSd1EwL._AC_UL320_.jpg\"></picture><price>55.</price></product><product><description>Capezio Women\\'s CG17 Fluid Tap Shoe</description><picture src=\"https://m.media-amazon.com/images/I/71Papil8A9L._AC_UL320_.jpg\"></picture><price>55.</price></product><product><description>Venum Elite Boxing Shoes</description><picture src=\"https://m.media-amazon.com/images/I/71Cgrid50QL._AC_UL320_.jpg\"></picture><price>142.</price></product><product><description>Ryka Women\\'s Vida RZX Cross Trainer</description><picture src=\"https://m.media-amazon.com/images/I/71HfU1jknlL._AC_UL320_.jpg\"></picture><price>73.</price></product><product><description>Ryka Women\\'s Devotion XT Sneaker</description><picture src=\"https://m.media-amazon.com/images/I/81r0NlwzKcL._AC_UL320_.jpg\"></picture><price>67.</price></product><product><description></description><picture src=\"https://m.media-amazon.com/images/G/01/AMAZON_FASHION/2021/SITE_FLIPS/SUM_1/Bubblers/SummerFlip_Bubblers_NotextDG_SalesandDeals.jpg\"></picture><price>-999</price></product><product><description></description><picture src=\"https://m.media-amazon.com/images/I/816+-jSPFTL._AC_SL139_QL70_.jpg\"></picture><price>-999</price></product></xml>'"
      ]
     },
     "execution_count": 5,
     "metadata": {},
     "output_type": "execute_result"
    }
   ],
   "source": [
    "XML # Here how it's look the xml looks like"
   ]
  },
  {
   "cell_type": "code",
   "execution_count": null,
   "id": "760c5d95",
   "metadata": {},
   "outputs": [],
   "source": []
  },
  {
   "cell_type": "code",
   "execution_count": null,
   "id": "f1f1be41",
   "metadata": {},
   "outputs": [],
   "source": []
  },
  {
   "cell_type": "code",
   "execution_count": null,
   "id": "abda5615",
   "metadata": {},
   "outputs": [],
   "source": []
  },
  {
   "cell_type": "code",
   "execution_count": null,
   "id": "20063080",
   "metadata": {},
   "outputs": [],
   "source": []
  },
  {
   "cell_type": "code",
   "execution_count": null,
   "id": "5ede8c74",
   "metadata": {},
   "outputs": [],
   "source": []
  },
  {
   "cell_type": "code",
   "execution_count": null,
   "id": "50aae1af",
   "metadata": {},
   "outputs": [],
   "source": []
  },
  {
   "cell_type": "code",
   "execution_count": null,
   "id": "599a46e6",
   "metadata": {},
   "outputs": [],
   "source": []
  },
  {
   "cell_type": "code",
   "execution_count": null,
   "id": "a3637950",
   "metadata": {},
   "outputs": [],
   "source": []
  },
  {
   "cell_type": "code",
   "execution_count": null,
   "id": "2804bafe",
   "metadata": {},
   "outputs": [],
   "source": []
  }
 ],
 "metadata": {
  "kernelspec": {
   "display_name": "Python 3",
   "language": "python",
   "name": "python3"
  },
  "language_info": {
   "codemirror_mode": {
    "name": "ipython",
    "version": 3
   },
   "file_extension": ".py",
   "mimetype": "text/x-python",
   "name": "python",
   "nbconvert_exporter": "python",
   "pygments_lexer": "ipython3",
   "version": "3.8.5"
  }
 },
 "nbformat": 4,
 "nbformat_minor": 5
}
