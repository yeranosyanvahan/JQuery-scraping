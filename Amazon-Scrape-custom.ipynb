{
 "cells": [
  {
   "cell_type": "code",
   "execution_count": 1,
   "id": "636ec4a3",
   "metadata": {},
   "outputs": [],
   "source": [
    "from Browser import BROWSER\n",
    "from time import sleep"
   ]
  },
  {
   "cell_type": "code",
   "execution_count": 2,
   "id": "48a13da0",
   "metadata": {},
   "outputs": [
    {
     "name": "stderr",
     "output_type": "stream",
     "text": [
      "\n",
      "\n",
      "====== WebDriver manager ======\n",
      "Driver [C:\\Users\\yeran\\.wdm\\drivers\\geckodriver\\win64\\v0.29.1\\geckodriver.exe] found in cache\n"
     ]
    }
   ],
   "source": [
    "Browser=BROWSER(\"https://amazon.com\") # You should now see a new browser emulator (selenium) to come up\n",
    "Browser.jquery() #this line is to have jquery library installed on the current tab"
   ]
  },
  {
   "cell_type": "code",
   "execution_count": 3,
   "id": "5f4c8599",
   "metadata": {},
   "outputs": [],
   "source": [
    "Categories = ['restaurant_and_market' ,\n",
    "'clothes_and_fashion' ,\n",
    "'medicine_and_self_care' ,\n",
    "'household_items' ,\n",
    "'toys_books_tools' ,\n",
    "'electronics_and_accessories' ,\n",
    "'furniture_and_appliances' ,\n",
    "'gift_and_souvenears' ,\n",
    "'services' ,\n",
    "'drinks' ,\n",
    "'groceries' ,\n",
    "'meals' ,\n",
    "'cigarete_and_lighters' ,\n",
    "'canned_frozen_and_dried_food' ,\n",
    "'desserts_and_ice_creams' ,  ]"
   ]
  },
  {
   "cell_type": "code",
   "execution_count": 4,
   "id": "5477d41e",
   "metadata": {
    "scrolled": false
   },
   "outputs": [],
   "source": [
    "sleep(3)\n",
    "Final = {}\n",
    "for cat in Categories:\n",
    "    Browser.jquery()\n",
    "    Browser(f\"\"\"\n",
    "     $('input#twotabsearchtextbox').val('{cat.replace('_',\" \")}')\n",
    "     $('input#nav-search-submit-button').click()\n",
    "     \"\"\") \n",
    "    sleep(5)\n",
    "    \n",
    "    Browser.jquery()\n",
    "    (XML,ARRAY)=Browser(\"\"\"\n",
    "    XML=$(\"<root />\")\n",
    "    let ARRAY = []\n",
    "    $('span div.s-main-slot').children().has('img').each(function(){\n",
    "\n",
    "        var Price=$(this).find('a span.a-price-whole').text()\n",
    "        if(! Price){Price=-999}\n",
    "        var Price=$('<price />',{text:Price})\n",
    "        var Picture=$('<picture />',{src:$(this).find('img').attr('src')})\n",
    "        var Description=$('<Description />', {text:$(this).find('a span.a-text-normal').text()})\n",
    "        var Product = $(\"<product />\").append([Description,Picture,Price])\n",
    "        Product.appendTo(XML)\n",
    "\n",
    "        json={\n",
    "        Price:$(Product).find('price').text(),\n",
    "        Description:$(Product).find('Description').text(),\n",
    "        imgsrc:$(Product).find('picture').attr('src')\n",
    "        }\n",
    "\n",
    "        ARRAY.push(json)\n",
    "    })\n",
    "    return [$(XML).prop('outerHTML'),ARRAY];\n",
    "    \"\"\") \n",
    "    Final[cat] = ARRAY"
   ]
  },
  {
   "cell_type": "code",
   "execution_count": 67,
   "id": "70009bc7",
   "metadata": {},
   "outputs": [],
   "source": [
    "def Finalizing(Final):\n",
    " newline = ',\\n'\n",
    " quote = \"\\\"\"\n",
    " slash = \"\\\\\"\n",
    "\n",
    " addproduct = []\n",
    " for key,value in Final.items():\n",
    "    cat = key\n",
    "    \n",
    "    for product,v in {v['Description']:v for v in value}.items():\n",
    "     if(product == ''): continue\n",
    "     addproduct.append({'product':f\"\"\" \"{product.replace(quote,'')}\" \"\"\",\n",
    "                        'created_at': \"\"\" \"1999\" \"\"\",\n",
    "                        'category' : {'category':f\"\"\" \"{cat.replace(quote,'')}\" \"\"\"}})\n",
    " \n",
    "        \n",
    " write = \"mutation MyMutation { \\n\" + f\"\"\"addProduct(input:[{\n",
    "        newline.join(map(str, addproduct))\n",
    "        }]){\"{numUids}\"}\"\"\" + \"}\"\n",
    "\n",
    " write = write.replace(\"'\",\"\").replace('\\\\','')\n",
    " with open(\"text.txt\",'w', encoding='utf-8') as file: # Use file to refer to the file object\n",
    "   file.write(write)"
   ]
  },
  {
   "cell_type": "code",
   "execution_count": 68,
   "id": "82fbb7cb",
   "metadata": {
    "scrolled": false
   },
   "outputs": [],
   "source": [
    "Finalizing(Final)"
   ]
  },
  {
   "cell_type": "code",
   "execution_count": null,
   "id": "9c6ac5c6",
   "metadata": {},
   "outputs": [],
   "source": []
  }
 ],
 "metadata": {
  "kernelspec": {
   "display_name": "Python 3",
   "language": "python",
   "name": "python3"
  },
  "language_info": {
   "codemirror_mode": {
    "name": "ipython",
    "version": 3
   },
   "file_extension": ".py",
   "mimetype": "text/x-python",
   "name": "python",
   "nbconvert_exporter": "python",
   "pygments_lexer": "ipython3",
   "version": "3.8.5"
  }
 },
 "nbformat": 4,
 "nbformat_minor": 5
}
