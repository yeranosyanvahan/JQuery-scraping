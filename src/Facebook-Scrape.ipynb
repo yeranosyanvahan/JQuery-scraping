{
 "cells": [
  {
   "cell_type": "code",
   "execution_count": 1,
   "id": "04ff7d13",
   "metadata": {},
   "outputs": [
    {
     "name": "stderr",
     "output_type": "stream",
     "text": [
      "/Users/075072/Desktop/JQuery-scraping/.venv/lib/python3.9/site-packages/urllib3/__init__.py:35: NotOpenSSLWarning: urllib3 v2 only supports OpenSSL 1.1.1+, currently the 'ssl' module is compiled with 'LibreSSL 2.8.3'. See: https://github.com/urllib3/urllib3/issues/3020\n",
      "  warnings.warn(\n"
     ]
    }
   ],
   "source": [
    "from lib.Browser import BROWSER\n",
    "from time import sleep\n",
    "from random import random"
   ]
  },
  {
   "cell_type": "code",
   "execution_count": 2,
   "id": "03e1687e",
   "metadata": {
    "scrolled": false
   },
   "outputs": [
    {
     "name": "stdout",
     "output_type": "stream",
     "text": [
      "Error initializing Firefox: response body:\n",
      "{\"message\":\"API rate limit exceeded for 5.77.254.89. (But here's the good news: Authenticated requests get a higher rate limit. Check out the documentation for more details.)\",\"documentation_url\":\"https://docs.github.com/rest/overview/resources-in-the-rest-api#rate-limiting\"}\n",
      "\n",
      "request url:\n",
      "https://api.github.com/repos/mozilla/geckodriver/releases/latest\n",
      "response headers:\n",
      "{'Date': 'Thu, 08 Feb 2024 07:59:27 GMT', 'Server': 'Varnish', 'Strict-Transport-Security': 'max-age=31536000; includeSubdomains; preload', 'X-Content-Type-Options': 'nosniff', 'X-Frame-Options': 'deny', 'X-XSS-Protection': '1; mode=block', 'Content-Security-Policy': \"default-src 'none'; style-src 'unsafe-inline'\", 'Access-Control-Allow-Origin': '*', 'Access-Control-Expose-Headers': 'ETag, Link, Location, Retry-After, X-GitHub-OTP, X-RateLimit-Limit, X-RateLimit-Remaining, X-RateLimit-Reset, X-RateLimit-Used, X-RateLimit-Resource, X-OAuth-Scopes, X-Accepted-OAuth-Scopes, X-Poll-Interval, X-GitHub-Media-Type, Deprecation, Sunset', 'Content-Type': 'application/json; charset=utf-8', 'Referrer-Policy': 'origin-when-cross-origin, strict-origin-when-cross-origin', 'X-GitHub-Media-Type': 'github.v3; format=json', 'X-RateLimit-Limit': '60', 'X-RateLimit-Remaining': '0', 'X-RateLimit-Reset': '1707380418', 'X-RateLimit-Resource': 'core', 'X-RateLimit-Used': '60', 'Content-Length': '277', 'X-GitHub-Request-Id': 'E174:FD193:A5BD841:A760279:65C489DF'}\n",
      "\n"
     ]
    }
   ],
   "source": [
    "# Scraping Hti Armenia\n",
    "Browser = BROWSER()\n",
    "Browser.search(\"https://m.facebook.com/pg/Hti.Armenia/posts/\") # You should now see a new browser emulator (selenium) to come up\n",
    "Browser.jquery() #this line is to have jquery library installed on the current tab"
   ]
  },
  {
   "cell_type": "code",
   "execution_count": 3,
   "id": "0ce5174c",
   "metadata": {},
   "outputs": [],
   "source": [
    "L=[]\n",
    "def saving():\n",
    "    global L\n",
    "    Browser.jquery()\n",
    "    l=Browser(\n",
    "    \"\"\"\n",
    "    L=[]\n",
    "    function extract(index,sample)\n",
    "    {\n",
    "        let text=[]\n",
    "        let time=[]\n",
    "        let likes=[]\n",
    "        $(sample).find('abbr').each((index,sample)=>{time.push(sample.textContent)})\n",
    "        $(sample).find('p').each((index,sample)=>{text.push(sample.textContent)})\n",
    "        $(sample).find('.like_def ').each((index,sample)=>{likes.push(sample.textContent)})\n",
    "        L.push(JSON.stringify({time,text,likes}))\n",
    "    }\n",
    "    $(\"article\").each(extract)\n",
    "    return L\n",
    "    \"\"\")\n",
    "    \n",
    "    if(len(l)==0):\n",
    "        return False\n",
    "    L=[eval(ll) for ll in l]\n",
    "    return True"
   ]
  },
  {
   "cell_type": "code",
   "execution_count": 4,
   "id": "ad51ca2c",
   "metadata": {},
   "outputs": [],
   "source": [
    "def Thread():\n",
    " for _ in range(2000):\n",
    "    sleep(random()*2)\n",
    "    Browser.jquery()\n",
    "    Browser(\"\"\"window.scrollTo(0,document.body.scrollHeight);\"\"\")\n",
    "    if(not saving()):\n",
    "        break"
   ]
  },
  {
   "cell_type": "code",
   "execution_count": 5,
   "id": "d008360b",
   "metadata": {},
   "outputs": [],
   "source": [
    "# do it in background\n",
    "\n",
    "import threading\n",
    "\n",
    "thread = threading.Thread(target=Thread, args=())\n",
    "thread.daemon = True\n",
    "thread.start()"
   ]
  },
  {
   "cell_type": "code",
   "execution_count": 6,
   "id": "29518e8f",
   "metadata": {},
   "outputs": [
    {
     "name": "stderr",
     "output_type": "stream",
     "text": [
      "/var/folders/jq/m8zh0g_n3r7bkbp21v70h88m0000gq/T/ipykernel_14463/3799879987.py:1: DeprecationWarning: \n",
      "Pyarrow will become a required dependency of pandas in the next major release of pandas (pandas 3.0),\n",
      "(to allow more performant data types, such as the Arrow string type, and better interoperability with other libraries)\n",
      "but was not found to be installed on your system.\n",
      "If this would cause problems for you,\n",
      "please provide us feedback at https://github.com/pandas-dev/pandas/issues/54466\n",
      "        \n",
      "  import pandas as pd\n"
     ]
    }
   ],
   "source": [
    "import pandas as pd\n",
    "df=pd.DataFrame(L)\n",
    "#Save it somewhere for future projects \n",
    "df.to_csv('scrape.csv',index=False)"
   ]
  }
 ],
 "metadata": {
  "kernelspec": {
   "display_name": "Python 3",
   "language": "python",
   "name": "python3"
  },
  "language_info": {
   "codemirror_mode": {
    "name": "ipython",
    "version": 3
   },
   "file_extension": ".py",
   "mimetype": "text/x-python",
   "name": "python",
   "nbconvert_exporter": "python",
   "pygments_lexer": "ipython3",
   "version": "3.9.6"
  }
 },
 "nbformat": 4,
 "nbformat_minor": 5
}
